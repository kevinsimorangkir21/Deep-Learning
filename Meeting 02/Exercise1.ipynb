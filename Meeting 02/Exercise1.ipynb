{
 "cells": [
  {
   "cell_type": "markdown",
   "metadata": {},
   "source": [
    "## Exercise 1 Deep Learning - Meeting 2\n",
    "\n",
    "### Topics\n",
    "Feedforward Neural Network\n",
    "\n",
    "### Purposes\n",
    "- Mahasiswa mampu memahami konsep metode Backpropagation Neural Network.\n",
    "- Mahasiswa mampu menerapkan perhitungan matematika Backpropagation Neural Network dan menerapkan \n",
    "  pemrograman hitungannya menggunakan Python."
   ]
  },
  {
   "cell_type": "markdown",
   "metadata": {},
   "source": [
    "Inisiasi nilai W dan Bias. Pada gambar 2 dapat dilihat bahwa nilai W dan Bias dinisiasi di\n",
    "dalam class NeuralNetwork. Pada gambar nilai untuk W dari input ke hidden adalah\n",
    "matrix 2x3, dan matrix untuk W dari hidden ke output yaitu 3 x 2. Pada gambar juga dapat\n",
    "dilihat nilai bias untuk hiden layer dan output layer sudah diinisiasi."
   ]
  },
  {
   "cell_type": "code",
   "execution_count": null,
   "metadata": {},
   "outputs": [],
   "source": [
    "import numpy as np"
   ]
  },
  {
   "cell_type": "code",
   "execution_count": null,
   "metadata": {},
   "outputs": [],
   "source": [
    "# Masukkan nilai input x, bobot W(1), W(2) dan W(3)\n",
    "x = np.matrix([[3], [1], [5]])\n",
    "\n",
    "w1 = np.matrix([[-2, 1, 1, -4],\n",
    "                [3, 4, 2, 3],\n",
    "                [1, -1, 1, 3]])\n",
    "\n",
    "w2 = np.matrix([[-2, 1, -3, -4],\n",
    "                [3, 2, 1, -1],\n",
    "                [2, 4, 1, -3],\n",
    "                [-1, -1, -3, 2]])\n",
    "\n",
    "w3 = np.matrix([[5, 3, -1],\n",
    "                [4, 1, -2],\n",
    "                [1, 3, 1],\n",
    "                [-2, 4, 3]])"
   ]
  },
  {
   "cell_type": "markdown",
   "metadata": {},
   "source": [
    "Setelah melakukan inisiasi bobot, selanjutnya adalah inisiasi nilai bias b1, b2, dan b3. Potongan kodenya dapat dilihat pada kode dibawah."
   ]
  },
  {
   "cell_type": "code",
   "execution_count": null,
   "metadata": {},
   "outputs": [],
   "source": [
    "# Masukkan nilai bias b1, b2, dan b3\n",
    "b1 = np.matrix([[-4], [7], [5], [3]])\n",
    "b2 = np.matrix([[-1], [-2], [1], [5]])\n",
    "b3 = np.matrix([[4], [-3], [2]])"
   ]
  },
  {
   "cell_type": "markdown",
   "metadata": {},
   "source": [
    "Langkah selanjutnya yaitu melakukan transpose terhadap bobot W(1), W(2), dan W(3). Kode program langkah transpose ketiga buah matriks tersebut dapat dilihat pada dibawah ini."
   ]
  },
  {
   "cell_type": "code",
   "execution_count": null,
   "metadata": {},
   "outputs": [],
   "source": [
    "# transpose matriks w1, w2, w3\n",
    "w1_T = np.transpose(w1)\n",
    "w2_T = np.transpose(w2)\n",
    "w3_T = np.transpose(w3)"
   ]
  },
  {
   "cell_type": "markdown",
   "metadata": {},
   "source": [
    "Setelah nilai bobot ditranspose, dilakukan proses perhitungan h1 dengan menjumlahkan hasil perkalian matriks W(1) dengan nilai input x yang kemudian ditambahkan nilai bias b1. Berikut adalah potongan kode programnya."
   ]
  },
  {
   "cell_type": "code",
   "execution_count": null,
   "metadata": {},
   "outputs": [],
   "source": [
    "# hitung nilai dari input ke hidden layer h_1\n",
    "h_1 = (w1_T*x) + b1"
   ]
  },
  {
   "cell_type": "markdown",
   "metadata": {},
   "source": [
    "Langkah selanjutnya yaitu mengaktifkan fungsi aktivasi sigmoid pada keluaran h1 seperti kode berikut ini."
   ]
  },
  {
   "cell_type": "code",
   "execution_count": null,
   "metadata": {},
   "outputs": [],
   "source": [
    "# Fungsi aktivasi yang bisa digunakan\n",
    "def sigmoid(mat):\n",
    "    return 1 / (1 + np.exp(-mat))\n",
    "\n",
    "\n",
    "def relu(mat):\n",
    "    return np.maximum(0, mat)\n",
    "\n",
    "\n",
    "def tanh(mat):\n",
    "    return np.tanh(mat)\n",
    "\n",
    "\n",
    "def softmax(mat):\n",
    "    e_z = np.exp(mat - np.max(mat))\n",
    "    return e_z / e_z.sum(axis=0)\n",
    "\n",
    "# Aktifkan fungsi aktivasi sigmoid pada h_1\n",
    "h1_aktivasi = sigmoid(h_1)"
   ]
  },
  {
   "cell_type": "markdown",
   "metadata": {},
   "source": [
    "Setelah didapatkan nilai h1_aktivasi yang selanjutnya diteruskan ke hidden layer kedua,\n",
    "dilakukan perhitungan nilai h_2 dengan menggunakan rumus persamaan yang sama\n",
    "dengan h_1 yaitu mengalikan matriks input dari lapisan sebelumnya dengan bobot W(2)\n",
    "yang kemudian ditambahkan dengan nilai bias b2. Berikut adalah kode programnya."
   ]
  },
  {
   "cell_type": "code",
   "execution_count": null,
   "metadata": {},
   "outputs": [],
   "source": [
    "# Hitung nilai pada hidden layer h_2\n",
    "h_2 = (w2_T*h1_aktivasi) + b2"
   ]
  },
  {
   "cell_type": "markdown",
   "metadata": {},
   "source": [
    "Langkah selanjutnya adalah mengaktifkan fungsi aktivasi sigmoid pada nilai h_2."
   ]
  },
  {
   "cell_type": "code",
   "execution_count": null,
   "metadata": {},
   "outputs": [],
   "source": [
    "# Aktifkan fungsi aktivasi sigmoid pada h_2\n",
    "h2_aktivasi = sigmoid(h_2)"
   ]
  },
  {
   "cell_type": "markdown",
   "metadata": {},
   "source": [
    "Tahapan selanjutnya adalah meneruskan nilai h2_aktivasi ke layer selanjutnya yaitu ke\n",
    "output layer. Pada lapisan ini akan dicari nilai keluarannya menggunakan persamaan\n",
    "sebelumnya yaitu mengalikan h2_aktivasi dengan bobot W(3) kemudian menambahkan\n",
    "nilai biasnya. Pada lapisan ini, fungsi aktivasi yang digunakan adalah ReLU. Berikut\n",
    "adalah kode program yang digunakan."
   ]
  },
  {
   "cell_type": "code",
   "execution_count": null,
   "metadata": {},
   "outputs": [],
   "source": [
    "# Aktifkan fungsi aktivasi ReLU pada hasil h_2\n",
    "output = relu(h2_aktivasi)\n",
    "\n",
    "# nilai output\n",
    "print(output)"
   ]
  }
 ],
 "metadata": {
  "language_info": {
   "name": "python"
  }
 },
 "nbformat": 4,
 "nbformat_minor": 2
}
