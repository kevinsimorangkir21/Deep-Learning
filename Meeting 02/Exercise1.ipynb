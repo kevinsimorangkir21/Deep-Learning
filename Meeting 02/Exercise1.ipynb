{
 "cells": [
  {
   "cell_type": "markdown",
   "metadata": {},
   "source": [
    "## Exercise 1 Deep Learning - Meeting 2\n",
    "\n",
    "### Topics\n",
    "Feedforward Neural Network\n",
    "\n",
    "### Purposes\n",
    "- Mahasiswa mampu memahami konsep metode Backpropagation Neural Network.\n",
    "- Mahasiswa mampu menerapkan perhitungan matematika Backpropagation Neural Network dan menerapkan \n",
    "  pemrograman hitungannya menggunakan Python."
   ]
  },
  {
   "cell_type": "markdown",
   "metadata": {},
   "source": [
    "Inisiasi nilai W dan Bias. Pada gambar 2 dapat dilihat bahwa nilai W dan Bias dinisiasi di\n",
    "dalam class NeuralNetwork. Pada gambar nilai untuk W dari input ke hidden adalah\n",
    "matrix 2x3, dan matrix untuk W dari hidden ke output yaitu 3 x 2. Pada gambar juga dapat\n",
    "dilihat nilai bias untuk hiden layer dan output layer sudah diinisiasi."
   ]
  },
  {
   "cell_type": "code",
   "execution_count": null,
   "metadata": {},
   "outputs": [],
   "source": [
    "# mendefinisikan class neural network\n",
    "class NeuralNetwork:\n",
    "\n",
    "    def __init__(self, input_size, hidden_size, output_size):\n",
    "        # menginisialisasi bobot dari input ke hidden\n",
    "        self.weights_input_hidden = np.array([[0.5, 0.2, -0.3],\n",
    "                                              [0.7, -0.4, 0.6]])\n",
    "\n",
    "        # menginisialisasi bobot dari hidden ke output\n",
    "        self.weights_hidden_output = np.array([[0.1, -0.2],\n",
    "                                               [0.4, 0.3],\n",
    "                                               [-0.5, 0.7]])\n",
    "\n",
    "        # menginisialisasi bias\n",
    "        self.bias_hidden = np.array([0.5, 0.5, 0.5])  # Bias untuk hidden\n",
    "        self.bias_output = np.array([0.5, -0.5])      # Bias untuk output"
   ]
  },
  {
   "cell_type": "markdown",
   "metadata": {},
   "source": [
    "Setelah melakukan inisiasi selanjutnya adalah membuat sebuh fungsi forward (fungsi maju\n",
    "untuk mendapatkan nilai prediksi nya). Potongan kode dapat dilihat pada gambar 3. Fungsi\n",
    "forward masih berada dalam class NeuralNetwork."
   ]
  },
  {
   "cell_type": "code",
   "execution_count": null,
   "metadata": {},
   "outputs": [],
   "source": []
  }
 ],
 "metadata": {
  "language_info": {
   "name": "python"
  }
 },
 "nbformat": 4,
 "nbformat_minor": 2
}
