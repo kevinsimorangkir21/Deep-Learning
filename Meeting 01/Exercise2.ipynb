{
 "cells": [
  {
   "cell_type": "markdown",
   "metadata": {},
   "source": [
    "## Exercise 2 Deep Learning\n",
    "\n",
    "### Topics\n",
    "Feedforward Neural Network\n",
    "\n",
    "### Purposes\n",
    "- Mahasiswa mampu memahami konsep metode Feed Forward Neural Network.\n",
    "- Mahasiswa mampu menerapkan perhitungan matematika Feed Forward Neural Network dan menerapkan \n",
    "  pemrograman hitungannya menggunakan Python.\n"
   ]
  },
  {
   "cell_type": "code",
   "execution_count": null,
   "metadata": {},
   "outputs": [],
   "source": [
    "import numpy as np"
   ]
  },
  {
   "cell_type": "code",
   "execution_count": null,
   "metadata": {},
   "outputs": [],
   "source": [
    "x = np.matrix([[3], [2], [-1]])\n",
    "\n",
    "w1 = np.matrix([[4, 1, 2, 1],\n",
    "                [2, -3, 1, -2],\n",
    "                [-1, 2, 3, 1]])\n",
    "\n",
    "w2 = np.matrix([[1, 3, -2, 1],\n",
    "                [3, -1, 1, 3],\n",
    "                [2, 2, 3, 2],\n",
    "                [4, -2, -1, 1]])\n",
    "\n",
    "w3 = np.matrix([[1, 2, -1, 2],\n",
    "                [-2, 3, -3, 1],\n",
    "                [4, -1, 1, 2],\n",
    "                [-1, 1, 3, -2]])\n",
    "\n",
    "w4 = np.matrix([[3, -2, -1],\n",
    "                [-1, 2, 1],\n",
    "                [-2, -3, 3],\n",
    "                [1, 4, -4]])\n"
   ]
  },
  {
   "cell_type": "code",
   "execution_count": null,
   "metadata": {},
   "outputs": [],
   "source": [
    "# Masukkan nilai bias b1, b2, dan b3\n",
    "b1 = np.matrix([[-4], [2], [1], [-1]])\n",
    "b2 = np.matrix([[-1], [2], [-3], [1]])\n",
    "b3 = np.matrix([[2], [-3], [-1], [4]])\n",
    "b4 = np.matrix([[3], [-1], [-2]])"
   ]
  },
  {
   "cell_type": "code",
   "execution_count": null,
   "metadata": {},
   "outputs": [],
   "source": [
    "# transpose matriks w1, w2, w3\n",
    "w1_T = np.transpose(w1)\n",
    "w2_T = np.transpose(w2)\n",
    "w3_T = np.transpose(w3)\n",
    "w4_T = np.transpose(w4)"
   ]
  },
  {
   "cell_type": "code",
   "execution_count": null,
   "metadata": {},
   "outputs": [],
   "source": [
    "# hitung nilai dari input ke hidden layer h_1\n",
    "h_1 = (w1_T*x) + b1"
   ]
  },
  {
   "cell_type": "code",
   "execution_count": null,
   "metadata": {},
   "outputs": [],
   "source": [
    "# Fungsi untuk digunakan\n",
    "def sigmoid(mat):\n",
    "    return 1 / (1 + np.exp(-mat))\n",
    "def relu(mat):\n",
    "    return np.maximum(0, mat)\n",
    "def tanh(mat):\n",
    "    return np.tanh(mat)\n",
    "def softmax(mat):\n",
    "    e_z = np.exp(mat - np.max(mat))\n",
    "    return e_z / e_z.sum(axis=0)"
   ]
  },
  {
   "cell_type": "code",
   "execution_count": null,
   "metadata": {},
   "outputs": [],
   "source": [
    "# Aktifkan fungsi aktivasi softmax pada h_1\n",
    "h1_aktivasi = softmax(h_1)\n",
    "\n",
    "# Hitung nilai pada hidden layer h_2\n",
    "h_2 = (w2_T*h1_aktivasi) + b2\n",
    "\n",
    "# Aktifkan fungsi aktivasi softmax pada h_2\n",
    "h2_aktivasi = softmax(h_2)\n",
    "\n",
    "# Hitung nilai pada hidden layer h_3\n",
    "h_3 = (w3_T*h2_aktivasi) + b3\n",
    "\n",
    "# Aktifkan fungsi aktivasi softmax pada h_3\n",
    "h3_aktivasi = softmax(h_3)\n",
    "\n",
    "# hitung nilai output out\n",
    "out = w4_T*h3_aktivasi + b4\n",
    "\n",
    "# aktifkan fungsi aktivasi sigmoid pada output\n",
    "output = sigmoid(out)\n",
    "\n",
    "# nilai output\n",
    "print(output)"
   ]
  }
 ],
 "metadata": {
  "language_info": {
   "name": "python"
  }
 },
 "nbformat": 4,
 "nbformat_minor": 2
}
